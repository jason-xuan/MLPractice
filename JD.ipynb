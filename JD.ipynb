{
 "cells": [
  {
   "cell_type": "code",
   "execution_count": 1,
   "metadata": {
    "collapsed": true
   },
   "outputs": [],
   "source": [
    "class Car(object):\n",
    "    def __init__(self, pos, lengh):\n",
    "        self.pos = pos\n",
    "        self.len = lengh\n",
    "    def __str__(self):\n",
    "        return \"<start: {0}, end: {1}>\"\\\n",
    "            .format(self.pos, self.pos + self.len)\n",
    "\n",
    "    def __repr__(self):\n",
    "        return \"<start: {0}, end: {1}>\"\\\n",
    "            .format(self.pos, self.pos + self.len)"
   ]
  },
  {
   "cell_type": "code",
   "execution_count": 32,
   "metadata": {
    "collapsed": false
   },
   "outputs": [
    {
     "name": "stdout",
     "output_type": "stream",
     "text": [
      "4\n",
      "2 2\n",
      "3 1\n",
      "5 2\n",
      "7 3\n",
      "4\n"
     ]
    }
   ],
   "source": [
    "class Car(object):\n",
    "    def __init__(self, pos, lengh):\n",
    "        self.pos = pos\n",
    "        self.len = lengh\n",
    "\n",
    "\n",
    "shoot_map = {}\n",
    "car_set = set()\n",
    "n = int(raw_input())\n",
    "for x in xrange(n):\n",
    "    (X, L) = [int(k) for k in raw_input().split(' ') if k != '']\n",
    "    car = Car(X, L)\n",
    "    car_set.add(car)\n",
    "    for i in range(X, X + L + 1):\n",
    "        if i in shoot_map.keys():\n",
    "            shoot_map[i].add(car)\n",
    "        else:\n",
    "            shoot_map[i] = set([car])\n",
    "            \n",
    "shoot_set = [{'pos':k, 'count':len(v)} for (k, v) in shoot_map.items()]\n",
    "shoot_set.sort(key=lambda x:x['count'], reverse = True)\n",
    "\n",
    "rest_map = set()\n",
    "\n",
    "max_mount = -1\n",
    "for xxx in shoot_set:\n",
    "    i = xxx['pos']\n",
    "    count = len(shoot_map[i])\n",
    "    rest = car_set - shoot_map[i]\n",
    "    if rest in rest_map:\n",
    "        continue\n",
    "    rest_map.add(rest)\n",
    "    new_map = {}\n",
    "    max_value = -1\n",
    "    for car in rest:\n",
    "        for p in xrange(car.pos, car.pos + car.len + 1):\n",
    "            if new_map.has_key(p):\n",
    "                new_map[p] += 1\n",
    "            else:\n",
    "                new_map[p] = 1\n",
    "            if new_map[p] > max_value:\n",
    "                max_value = new_map[p]\n",
    "                \n",
    "    count += max_value\n",
    "    if count == n:\n",
    "        max_mount = n\n",
    "        break\n",
    "    if count > max_mount:\n",
    "        max_mount = count\n",
    "\n",
    "print max_mount"
   ]
  },
  {
   "cell_type": "code",
   "execution_count": 10,
   "metadata": {
    "collapsed": false
   },
   "outputs": [
    {
     "name": "stdout",
     "output_type": "stream",
     "text": [
      "4\n",
      "2 2\n",
      "3 1\n",
      "5 2\n",
      "7 3\n"
     ]
    }
   ],
   "source": [
    "shoot_map = {}\n",
    "car_set = set()\n",
    "n = int(raw_input())\n",
    "for x in xrange(n):\n",
    "    (X, L) = [int(k) for k in raw_input().split(' ') if k != '']\n",
    "    car = Car(X, L)\n",
    "    for i in range(X, X + L + 1):\n",
    "        if i in shoot_map.keys():\n",
    "            shoot_map[i].add(car)\n",
    "        else:\n",
    "            shoot_map[i] = set([car])"
   ]
  }
 ],
 "metadata": {
  "anaconda-cloud": {},
  "kernelspec": {
   "display_name": "Python [conda root]",
   "language": "python",
   "name": "conda-root-py"
  },
  "language_info": {
   "codemirror_mode": {
    "name": "ipython",
    "version": 2
   },
   "file_extension": ".py",
   "mimetype": "text/x-python",
   "name": "python",
   "nbconvert_exporter": "python",
   "pygments_lexer": "ipython2",
   "version": "2.7.12"
  }
 },
 "nbformat": 4,
 "nbformat_minor": 1
}
