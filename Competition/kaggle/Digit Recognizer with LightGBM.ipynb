{
 "cells": [
  {
   "cell_type": "code",
   "execution_count": 30,
   "metadata": {
    "collapsed": true
   },
   "outputs": [],
   "source": [
    "import time\n",
    "import lightgbm as lgb\n",
    "import numpy as np\n",
    "import pandas as pd\n",
    "from pylab import *"
   ]
  },
  {
   "cell_type": "code",
   "execution_count": 4,
   "metadata": {},
   "outputs": [],
   "source": [
    "minst = pd.read_csv(\"./Digit Recognizer/train.csv\")\n",
    "\n",
    "def get_df(minst, train_rate=.75):\n",
    "\n",
    "    \n",
    "    minst['is_train'] = np.random.uniform(0, 1, len(minst)) <= train_rate\n",
    "    train, test = minst[minst['is_train']==True], minst[minst['is_train']==False]\n",
    "    \n",
    "    X_label = train.columns[1:-1]\n",
    "    y_label = train.columns[0]\n",
    "    \n",
    "    X_train, y_train = train[X_label], train[y_label]\n",
    "    X_test, y_test = test[X_label], test[y_label]\n",
    "    \n",
    "    \n",
    "    X_train = X_train.astype('float32')\n",
    "    X_test = X_test.astype('float32')\n",
    "    \n",
    "    return np.array(X_train), y_train, np.array(X_test), y_test\n",
    "\n",
    "X_train, y_train, X_test, y_test = get_df(minst)\n",
    "\n",
    "# (X_train, y_train), (X_test, y_test) = mnist.load_data()\n",
    "\n",
    "# X_train = X_train.reshape(X_train.shape[0],28,28,1)\n",
    "# X_test = X_test.reshape(X_test.shape[0],28,28,1)"
   ]
  },
  {
   "cell_type": "code",
   "execution_count": 6,
   "metadata": {
    "collapsed": true
   },
   "outputs": [],
   "source": [
    "train_data = lgb.Dataset( X_train, label=y_train)\n",
    "test_data = train_data.create_valid(X_test, label=y_test)"
   ]
  },
  {
   "cell_type": "code",
   "execution_count": 32,
   "metadata": {},
   "outputs": [
    {
     "name": "stdout",
     "output_type": "stream",
     "text": [
      "cost time: {0} 59.0530002117\n"
     ]
    }
   ],
   "source": [
    "start_time = time.time()\n",
    "param = {'application':'multiclass', \n",
    "         'num_class':10,\n",
    "         'num_iterations':100, \n",
    "        }\n",
    "# param['metric'] = 'auc'\n",
    "bst = lgb.train(param, train_data)\n",
    "print \"cost time: \", time.time() - start_time"
   ]
  },
  {
   "cell_type": "code",
   "execution_count": 23,
   "metadata": {},
   "outputs": [],
   "source": [
    "result = bst.predict(X_test,num_iteration=bst.best_iteration)\n",
    "l = []\n",
    "for line in result:\n",
    "    m = np.amax(line)\n",
    "    for i in range(10):\n",
    "        if line[i]==m:\n",
    "            l.append(i)\n",
    "            \n",
    "resu = np.array(l)"
   ]
  },
  {
   "cell_type": "code",
   "execution_count": 28,
   "metadata": {},
   "outputs": [
    {
     "data": {
      "text/plain": [
       "0.96744668805434986"
      ]
     },
     "execution_count": 28,
     "metadata": {},
     "output_type": "execute_result"
    }
   ],
   "source": [
    "sum(resu == y_test)/float(len(resu))"
   ]
  }
 ],
 "metadata": {
  "anaconda-cloud": {},
  "kernelspec": {
   "display_name": "Python 3",
   "language": "python",
   "name": "python3"
  },
  "language_info": {
   "codemirror_mode": {
    "name": "ipython",
    "version": 3
   },
   "file_extension": ".py",
   "mimetype": "text/x-python",
   "name": "python",
   "nbconvert_exporter": "python",
   "pygments_lexer": "ipython3",
   "version": "3.6.1"
  }
 },
 "nbformat": 4,
 "nbformat_minor": 1
}
