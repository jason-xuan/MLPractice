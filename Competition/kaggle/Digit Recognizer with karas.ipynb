{
 "cells": [
  {
   "cell_type": "markdown",
   "metadata": {},
   "source": [
    "# Digit Recognizer\n",
    "## Classify handwritten digits using the famous MNIST data"
   ]
  },
  {
   "cell_type": "markdown",
   "metadata": {},
   "source": [
    "### train.csv\n",
    "https://www.kaggle.com/c/digit-recognizer/download/train.csv\n",
    "### test.csv\n",
    "https://www.kaggle.com/c/digit-recognizer/download/test.csv"
   ]
  },
  {
   "cell_type": "markdown",
   "metadata": {},
   "source": [
    "The data files train.csv and test.csv contain gray-scale images of hand-drawn digits, from zero through nine.\n",
    "\n",
    "Each image is 28 pixels in height and 28 pixels in width, for a total of 784 pixels in total. Each pixel has a single pixel-value associated with it, indicating the lightness or darkness of that pixel, with higher numbers meaning darker. This pixel-value is an integer between 0 and 255, inclusive.\n",
    "\n",
    "The training data set, (train.csv), has 785 columns. The first column, called \"label\", is the digit that was drawn by the user. The rest of the columns contain the pixel-values of the associated image.\n",
    "\n",
    "Each pixel column in the training set has a name like pixelx, where x is an integer between 0 and 783, inclusive. To locate this pixel on the image, suppose that we have decomposed x as x = i * 28 + j, where i and j are integers between 0 and 27, inclusive. Then pixelx is located on row i and column j of a 28 x 28 matrix, (indexing by zero)."
   ]
  },
  {
   "cell_type": "code",
   "execution_count": 31,
   "metadata": {},
   "outputs": [],
   "source": [
    "# kelas\n",
    "from keras.models import Sequential\n",
    "from keras.layers import Dense, Activation, Dropout, Convolution2D, MaxPooling2D, Flatten\n",
    "from keras.callbacks import TensorBoard\n",
    "from keras.optimizers import SGD\n",
    "from keras.utils import np_utils\n",
    "# basic\n",
    "import pandas as pd\n",
    "import numpy as np\n",
    "from pylab import *"
   ]
  },
  {
   "cell_type": "code",
   "execution_count": 2,
   "metadata": {},
   "outputs": [],
   "source": [
    "minst = pd.read_csv(\"./Digit Recognizer/train.csv\")\n",
    "\n",
    "def get_df(minst, train_rate=.75):\n",
    "\n",
    "    \n",
    "    minst['is_train'] = np.random.uniform(0, 1, len(minst)) <= train_rate\n",
    "    train, test = minst[minst['is_train']==True], minst[minst['is_train']==False]\n",
    "    \n",
    "    X_label = train.columns[1:-1]\n",
    "    y_label = train.columns[0]\n",
    "    \n",
    "    X_train, y_train = train[X_label], train[y_label]\n",
    "    X_test, y_test = test[X_label], test[y_label]\n",
    "    \n",
    "    X_train = X_train.astype('float32')\n",
    "    X_test = X_test.astype('float32')\n",
    "    X_train /= 255\n",
    "    X_test /= 255\n",
    "    \n",
    "    return np.array(X_train), y_train, np.array(X_test), y_test\n",
    "\n",
    "X_train, y_train, X_test, y_test = get_df(minst)\n",
    "\n",
    "# (X_train, y_train), (X_test, y_test) = mnist.load_data()\n",
    "\n",
    "X_train = X_train.reshape(X_train.shape[0],28,28,1)\n",
    "X_test = X_test.reshape(X_test.shape[0],28,28,1)\n",
    "y_train = np_utils.to_categorical(y_train, 10)\n",
    "y_test = np_utils.to_categorical(y_test, 10)"
   ]
  },
  {
   "cell_type": "code",
   "execution_count": 69,
   "metadata": {},
   "outputs": [],
   "source": [
    "nb_filters = 32\n",
    "# size of pooling area for max pooling\n",
    "pool_size = (2, 2)\n",
    "# convolution kernel size\n",
    "kernel_size = (3, 3)\n",
    "\n",
    "activation = 'relu'\n",
    "\n",
    "def network():\n",
    "    model = Sequential()\n",
    "    \n",
    "    model.add(Convolution2D(nb_filters, kernel_size[0], kernel_size[1], input_shape = (28,28,1)))\n",
    "    model.add(Activation(activation))\n",
    "    model.add(Convolution2D(nb_filters, kernel_size[0], kernel_size[1]))\n",
    "    model.add(Activation(activation))\n",
    "    model.add(MaxPooling2D(pool_size=pool_size))\n",
    "    model.add(Dropout(0.5))\n",
    "    \n",
    "    model.add(Convolution2D(nb_filters, kernel_size[0], kernel_size[1]))\n",
    "    model.add(Activation(activation))\n",
    "    model.add(Convolution2D(nb_filters, kernel_size[0], kernel_size[1]))\n",
    "    model.add(Activation(activation))\n",
    "    model.add(MaxPooling2D(pool_size=pool_size))\n",
    "    model.add(Dropout(0.5))\n",
    "    \n",
    "    model.add(Flatten())\n",
    "\n",
    "    model.add(Dense(128, init='uniform'))\n",
    "    model.add(Activation(activation))\n",
    "    model.add(Dropout(0.5))\n",
    "    model.add(Dense(128, init='uniform'))\n",
    "    model.add(Activation(activation))\n",
    "    model.add(Dense(10, init='uniform'))\n",
    "    model.add(Activation('softmax'))\n",
    "\n",
    "    model.compile(loss='categorical_crossentropy',\n",
    "              optimizer=\"Adadelta\",\n",
    "              metrics=['accuracy'])\n",
    "    \n",
    "    return model"
   ]
  },
  {
   "cell_type": "code",
   "execution_count": 5,
   "metadata": {
    "collapsed": true
   },
   "outputs": [],
   "source": [
    "tfb = TensorBoard(log_dir='./logs', histogram_freq=0)"
   ]
  },
  {
   "cell_type": "code",
   "execution_count": null,
   "metadata": {},
   "outputs": [
    {
     "name": "stdout",
     "output_type": "stream",
     "text": [
      "Train on 31529 samples, validate on 10471 samples\n",
      "Epoch 1/40\n",
      "31529/31529 [==============================] - 12s - loss: 0.8495 - acc: 0.7055 - val_loss: 0.1637 - val_acc: 0.9497\n",
      "Epoch 2/40\n",
      "31529/31529 [==============================] - 12s - loss: 0.2656 - acc: 0.9189 - val_loss: 0.1194 - val_acc: 0.9639\n",
      "Epoch 3/40\n",
      "31529/31529 [==============================] - 12s - loss: 0.2108 - acc: 0.9356 - val_loss: 0.1015 - val_acc: 0.9678\n",
      "Epoch 4/40\n",
      "31529/31529 [==============================] - 12s - loss: 0.1866 - acc: 0.9424 - val_loss: 0.0892 - val_acc: 0.9719\n",
      "Epoch 5/40\n",
      "31529/31529 [==============================] - 12s - loss: 0.1665 - acc: 0.9491 - val_loss: 0.0822 - val_acc: 0.9752\n",
      "Epoch 6/40\n",
      "18880/31529 [================>.............] - ETA: 4s - loss: 0.1531 - acc: 0.9524"
     ]
    }
   ],
   "source": [
    "# train\n",
    "nn = network()\n",
    "history = nn.fit(X_train, y_train, nb_epoch=40, batch_size=64, verbose=1,callbacks = [tfb], validation_data=(X_test, y_test))\n",
    "nn.evaluate(X_test, y_test, batch_size=16)"
   ]
  },
  {
   "cell_type": "code",
   "execution_count": 65,
   "metadata": {},
   "outputs": [
    {
     "name": "stdout",
     "output_type": "stream",
     "text": [
      "(None, 26, 26, 32)\n",
      "(None, 26, 26, 32)\n",
      "(None, 24, 24, 32)\n",
      "(None, 24, 24, 32)\n",
      "(None, 12, 12, 32)\n",
      "(None, 12, 12, 32)\n",
      "(None, 10, 10, 32)\n",
      "(None, 10, 10, 32)\n",
      "(None, 8, 8, 32)\n",
      "(None, 8, 8, 32)\n",
      "(None, 4, 4, 32)\n",
      "(None, 4, 4, 32)\n",
      "(None, 512)\n",
      "(None, 128)\n",
      "(None, 128)\n",
      "(None, 128)\n",
      "(None, 128)\n",
      "(None, 128)\n",
      "(None, 10)\n",
      "(None, 10)\n"
     ]
    }
   ],
   "source": [
    "for layer in nn.layers:\n",
    "    print(layer.output_shape)"
   ]
  },
  {
   "cell_type": "code",
   "execution_count": 66,
   "metadata": {},
   "outputs": [],
   "source": [
    "test  = pd.read_csv(\"./Digit Recognizer/test.csv\")\n",
    "_test = np.array(test)\n",
    "_test = _test.reshape(_test.shape[0],28,28,1)\n",
    "result = nn.predict(_test)"
   ]
  },
  {
   "cell_type": "code",
   "execution_count": 67,
   "metadata": {},
   "outputs": [],
   "source": [
    "l = []\n",
    "for line in result:\n",
    "    m = np.amax(line)\n",
    "    for i in range(10):\n",
    "        if line[i]==m:\n",
    "            l.append(i)\n",
    "            \n",
    "resu = np.array(l)\n",
    "\n",
    "submit = pd.DataFrame(columns=['ImageId', 'Label'])\n",
    "submit['Label'] = resu\n",
    "submit['ImageId'] = [i for i in range(1, len(resu) + 1)]"
   ]
  },
  {
   "cell_type": "code",
   "execution_count": 68,
   "metadata": {},
   "outputs": [],
   "source": [
    "submit.to_csv('./Digit Recognizer/submit.csv', index=False)"
   ]
  }
 ],
 "metadata": {
  "anaconda-cloud": {},
  "kernelspec": {
   "display_name": "Python 3",
   "language": "python",
   "name": "python3"
  },
  "language_info": {
   "codemirror_mode": {
    "name": "ipython",
    "version": 3
   },
   "file_extension": ".py",
   "mimetype": "text/x-python",
   "name": "python",
   "nbconvert_exporter": "python",
   "pygments_lexer": "ipython3",
   "version": "3.6.1"
  }
 },
 "nbformat": 4,
 "nbformat_minor": 1
}
