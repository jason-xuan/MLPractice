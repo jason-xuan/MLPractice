{
 "cells": [
  {
   "cell_type": "code",
   "execution_count": 1,
   "metadata": {
    "collapsed": false
   },
   "outputs": [],
   "source": [
    "import numpy as np\n",
    "import pandas as pd\n",
    "import matplotlib.pyplot as plt\n",
    "from travel_management import read_df, analyse, time_gap_analyse, date_block_analyse, single_day_analyse, ARCTYP_analyse\n",
    "from datetime import datetime, timedelta"
   ]
  },
  {
   "cell_type": "code",
   "execution_count": 2,
   "metadata": {
    "collapsed": false
   },
   "outputs": [],
   "source": [
    "df = read_df('data.pickle')\n",
    "analysed = analyse(df)"
   ]
  },
  {
   "cell_type": "markdown",
   "metadata": {},
   "source": [
    "1、安庆天柱山机场（代码ZSAQ），receive_time为2016年8月12日，将一天划分为八个时间段（0至3,3至6,6至9，以此类推），分别计算CTOT误差、CTOT跳变幅度、CTOT跳变次数，得到列表；"
   ]
  },
  {
   "cell_type": "code",
   "execution_count": 3,
   "metadata": {
    "collapsed": false
   },
   "outputs": [
    {
     "data": {
      "text/html": [
       "<div>\n",
       "<table border=\"1\" class=\"dataframe\">\n",
       "  <thead>\n",
       "    <tr style=\"text-align: right;\">\n",
       "      <th></th>\n",
       "      <th>level_2</th>\n",
       "      <th>dif</th>\n",
       "      <th>jump_count</th>\n",
       "      <th>jump_rate</th>\n",
       "    </tr>\n",
       "    <tr>\n",
       "      <th>analyse1</th>\n",
       "      <th></th>\n",
       "      <th></th>\n",
       "      <th></th>\n",
       "      <th></th>\n",
       "    </tr>\n",
       "  </thead>\n",
       "  <tbody>\n",
       "    <tr>\n",
       "      <th>12-15</th>\n",
       "      <td>0</td>\n",
       "      <td>12.0</td>\n",
       "      <td>1.000000</td>\n",
       "      <td>5.000000</td>\n",
       "    </tr>\n",
       "    <tr>\n",
       "      <th>9-12</th>\n",
       "      <td>0</td>\n",
       "      <td>12.0</td>\n",
       "      <td>0.333333</td>\n",
       "      <td>1.666667</td>\n",
       "    </tr>\n",
       "  </tbody>\n",
       "</table>\n",
       "</div>"
      ],
      "text/plain": [
       "          level_2   dif  jump_count  jump_rate\n",
       "analyse1                                      \n",
       "12-15           0  12.0    1.000000   5.000000\n",
       "9-12            0  12.0    0.333333   1.666667"
      ]
     },
     "execution_count": 3,
     "metadata": {},
     "output_type": "execute_result"
    }
   ],
   "source": [
    "date = 20160503\n",
    "time_gap_analyse(analysed, date)"
   ]
  },
  {
   "cell_type": "markdown",
   "metadata": {},
   "source": [
    "2、安庆天柱山机场（代码ZSAQ），将一年中的receive_time分为两部分，一部分是2016年3月27日（含）至2016年10月29日（含），另一部分是剩下的日期，分别计算CTOT误差、CTOT跳变幅度、CTOT跳变次数，得到列表；"
   ]
  },
  {
   "cell_type": "code",
   "execution_count": 4,
   "metadata": {
    "collapsed": false
   },
   "outputs": [
    {
     "data": {
      "text/html": [
       "<div>\n",
       "<table border=\"1\" class=\"dataframe\">\n",
       "  <thead>\n",
       "    <tr style=\"text-align: right;\">\n",
       "      <th></th>\n",
       "      <th>level_2</th>\n",
       "      <th>dif</th>\n",
       "      <th>jump_count</th>\n",
       "      <th>jump_rate</th>\n",
       "    </tr>\n",
       "    <tr>\n",
       "      <th>analyse2</th>\n",
       "      <th></th>\n",
       "      <th></th>\n",
       "      <th></th>\n",
       "      <th></th>\n",
       "    </tr>\n",
       "  </thead>\n",
       "  <tbody>\n",
       "    <tr>\n",
       "      <th>2016-3-27 to 2016-10-29</th>\n",
       "      <td>0</td>\n",
       "      <td>18.170068</td>\n",
       "      <td>0.217687</td>\n",
       "      <td>3.612245</td>\n",
       "    </tr>\n",
       "    <tr>\n",
       "      <th>other</th>\n",
       "      <td>0</td>\n",
       "      <td>21.821372</td>\n",
       "      <td>0.272727</td>\n",
       "      <td>5.787879</td>\n",
       "    </tr>\n",
       "  </tbody>\n",
       "</table>\n",
       "</div>"
      ],
      "text/plain": [
       "                         level_2        dif  jump_count  jump_rate\n",
       "analyse2                                                          \n",
       "2016-3-27 to 2016-10-29        0  18.170068    0.217687   3.612245\n",
       "other                          0  21.821372    0.272727   5.787879"
      ]
     },
     "execution_count": 4,
     "metadata": {},
     "output_type": "execute_result"
    }
   ],
   "source": [
    "date_block_analyse(analysed)"
   ]
  },
  {
   "cell_type": "markdown",
   "metadata": {},
   "source": [
    "3、安庆天柱山机场（代码ZSAQ），receive_time为2016年8月12日，分别计算CTOT误差、CTOT跳变幅度、CTOT跳变次数，得到列表；"
   ]
  },
  {
   "cell_type": "code",
   "execution_count": 5,
   "metadata": {
    "collapsed": false
   },
   "outputs": [
    {
     "data": {
      "text/plain": [
       "level_2        0.0\n",
       "dif           12.0\n",
       "jump_count     0.5\n",
       "jump_rate      2.5\n",
       "dtype: float64"
      ]
     },
     "execution_count": 5,
     "metadata": {},
     "output_type": "execute_result"
    }
   ],
   "source": [
    "date = 20160503\n",
    "single_day_analyse(analysed, date)"
   ]
  },
  {
   "cell_type": "markdown",
   "metadata": {},
   "source": [
    "4、安庆天柱山机场（代码ZSAQ），receive_time为2016年8月12日，安机型（即列表中的ARCTYP，aircraft type）的不同，计算CTOT误差、CTOT跳变幅度、CTOT跳变次数，得到列表；"
   ]
  },
  {
   "cell_type": "code",
   "execution_count": 6,
   "metadata": {
    "collapsed": false
   },
   "outputs": [
    {
     "data": {
      "text/html": [
       "<div>\n",
       "<table border=\"1\" class=\"dataframe\">\n",
       "  <thead>\n",
       "    <tr style=\"text-align: right;\">\n",
       "      <th></th>\n",
       "      <th>level_2</th>\n",
       "      <th>dif</th>\n",
       "      <th>jump_count</th>\n",
       "      <th>jump_rate</th>\n",
       "    </tr>\n",
       "    <tr>\n",
       "      <th>ARCTYP</th>\n",
       "      <th></th>\n",
       "      <th></th>\n",
       "      <th></th>\n",
       "      <th></th>\n",
       "    </tr>\n",
       "  </thead>\n",
       "  <tbody>\n",
       "    <tr>\n",
       "      <th>A320</th>\n",
       "      <td>0</td>\n",
       "      <td>3.0</td>\n",
       "      <td>0.0</td>\n",
       "      <td>0.0</td>\n",
       "    </tr>\n",
       "    <tr>\n",
       "      <th>A321</th>\n",
       "      <td>0</td>\n",
       "      <td>13.0</td>\n",
       "      <td>1.0</td>\n",
       "      <td>5.0</td>\n",
       "    </tr>\n",
       "    <tr>\n",
       "      <th>B738</th>\n",
       "      <td>0</td>\n",
       "      <td>19.0</td>\n",
       "      <td>0.0</td>\n",
       "      <td>0.0</td>\n",
       "    </tr>\n",
       "  </tbody>\n",
       "</table>\n",
       "</div>"
      ],
      "text/plain": [
       "        level_2   dif  jump_count  jump_rate\n",
       "ARCTYP                                      \n",
       "A320          0   3.0         0.0        0.0\n",
       "A321          0  13.0         1.0        5.0\n",
       "B738          0  19.0         0.0        0.0"
      ]
     },
     "execution_count": 6,
     "metadata": {},
     "output_type": "execute_result"
    }
   ],
   "source": [
    "date = 20160503\n",
    "ARCTYP_analyse(analysed, date)"
   ]
  }
 ],
 "metadata": {
  "anaconda-cloud": {},
  "kernelspec": {
   "display_name": "Python [conda env:tf]",
   "language": "python",
   "name": "conda-env-tf-py"
  },
  "language_info": {
   "codemirror_mode": {
    "name": "ipython",
    "version": 3
   },
   "file_extension": ".py",
   "mimetype": "text/x-python",
   "name": "python",
   "nbconvert_exporter": "python",
   "pygments_lexer": "ipython3",
   "version": "3.5.2"
  }
 },
 "nbformat": 4,
 "nbformat_minor": 1
}
